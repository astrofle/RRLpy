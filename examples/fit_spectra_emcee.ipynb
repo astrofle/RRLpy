{
 "cells": [
  {
   "cell_type": "code",
   "execution_count": 1,
   "id": "e235599a-14ed-4c70-ba98-c36feace68cf",
   "metadata": {},
   "outputs": [],
   "source": [
    "# This is for testing only.\n",
    "%load_ext autoreload\n",
    "%autoreload 2"
   ]
  },
  {
   "cell_type": "code",
   "execution_count": 62,
   "id": "3605078f-48a8-4048-bece-c4ec1237d792",
   "metadata": {},
   "outputs": [],
   "source": [
    "# Load modules.\n",
    "import pickle\n",
    "import numpy as np\n",
    "import matplotlib.pyplot as plt\n",
    "\n",
    "from collections import namedtuple\n",
    "\n",
    "import emcee\n",
    "\n",
    "from astropy import units as u\n",
    "from astropy import constants as ac\n",
    "from chainconsumer import ChainConsumer\n",
    "\n",
    "from rrlpy.rrl import RRLs\n",
    "from rrlpy.synth import layers\n",
    "from rrlpy.departure import BnBeta\n",
    "from rrlpy.continuum import PowerLaw"
   ]
  },
  {
   "cell_type": "code",
   "execution_count": 43,
   "id": "ebba573b-224b-4878-a26b-e629ec0c3216",
   "metadata": {},
   "outputs": [],
   "source": [
    "# Set up departure coefficients.\n",
    "# You'll have to set the path and the filenames.\n",
    "path = \"/home/scratch/psalas/projects/GDIGS-Low/analysis/simulations/layered_emission/\"\n",
    "bn = np.load(f'{path}/bn_hrrl.npy')\n",
    "beta = np.load(f'{path}/beta_hrrl.npy')\n",
    "bn_head = pickle.load(open(f'{path}/bn_hrrl_head.p', \"rb\" ))\n",
    "bnbeta = BnBeta(bn[0,0,:], bn[:,-1,:], bn_head[\"Te_v\"]*u.K, bn_head[\"ne_v\"]*u.cm**-3, None, beta=beta[:,:,0])"
   ]
  },
  {
   "cell_type": "code",
   "execution_count": 44,
   "id": "d080194f-1b3f-436c-95bb-2b9331782fa8",
   "metadata": {},
   "outputs": [
    {
     "name": "stderr",
     "output_type": "stream",
     "text": [
      "/home/sandboxes/psalas/RRLpy/rrlpy/src/rrlpy/departure/bnbeta.py:87: UserWarning: Will use all n values.\n",
      "  warnings.warn(\"Will use all n values.\")\n"
     ]
    }
   ],
   "source": [
    "# Interpolate the departure coefficients.\n",
    "# You can ignore the warning.\n",
    "bnbeta_i = bnbeta.interpolate()"
   ]
  },
  {
   "cell_type": "code",
   "execution_count": 45,
   "id": "d66800e4-132a-424c-837d-9639f25b845c",
   "metadata": {},
   "outputs": [],
   "source": [
    "# Set up lines.\n",
    "rrls = RRLs(np.array([104, 167, 203, 268]), # Principal quantum numbers.\n",
    "            [\"H\", \"H\", \"H\", \"H\"], # Element.\n",
    "            [\"alpha\"]*4, # Transition.\n",
    "            np.array([1, 1, 1, 1]), # Net charge, Z.\n",
    "            )"
   ]
  },
  {
   "cell_type": "code",
   "execution_count": 46,
   "id": "5fac2dda-e1f3-4631-b5db-9df2236c538e",
   "metadata": {},
   "outputs": [],
   "source": [
    "# Set up radiation fields.\n",
    "background = PowerLaw(0.14*33.*u.K, 1*u.GHz, -2.2)\n",
    "medium = PowerLaw(0.*u.K, 1*u.GHz, -2.6)"
   ]
  },
  {
   "cell_type": "code",
   "execution_count": 47,
   "id": "bb8e40e9-03bb-449a-93b1-ef9eac1f00d1",
   "metadata": {},
   "outputs": [],
   "source": [
    "# X-axis for the spectra.\n",
    "x_axis = np.arange(-300, 300, 1) * u.km/u.s"
   ]
  },
  {
   "cell_type": "code",
   "execution_count": 48,
   "id": "363cbf90-f9fb-42d6-a171-06c107609d47",
   "metadata": {},
   "outputs": [],
   "source": [
    "# Define a gas layer.\n",
    "layer = layers.Layer(3*u.cm**-3, 7000*u.K, 220*u.pc, 1*u.km/u.s,\n",
    "                     bnbeta_i, rrls, background, medium,\n",
    "                     x_axis=x_axis)"
   ]
  },
  {
   "cell_type": "code",
   "execution_count": 49,
   "id": "13edc579-7353-49ee-8fdb-818be1f12176",
   "metadata": {},
   "outputs": [],
   "source": [
    "# Compute the line emission from the layer.\n",
    "# We will use this as our \"observed\" data, or mock data.\n",
    "layer.compute()"
   ]
  },
  {
   "cell_type": "code",
   "execution_count": 57,
   "id": "5c81e980-22b2-4271-b8fd-3ef361955afa",
   "metadata": {},
   "outputs": [],
   "source": [
    "# Define functions to be used during the fitting.\n",
    "\n",
    "param = namedtuple('Param', ['name', 'value', 'min', 'max'])\n",
    "\n",
    "\n",
    "def set_params(theta, params=None):\n",
    "    \"\"\"\n",
    "    Updates the values of the parameter vector.\n",
    "    \"\"\"\n",
    "    for p, v in zip(params.keys(), theta):\n",
    "        params[p] = params[p]._replace(value=v)\n",
    "    return params\n",
    "\n",
    "\n",
    "def log_prior(params):\n",
    "    \"\"\"\n",
    "    Priors.\n",
    "    \"\"\"\n",
    "    # Check the bounds of the parameters\n",
    "    lnp = 0\n",
    "    for p in params.values():\n",
    "        if p.value <= p.min or p.value >= p.max:\n",
    "            return -np.inf\n",
    "            \n",
    "    return lnp\n",
    "\n",
    "\n",
    "def synth_spec(params, \n",
    "               vrms, bnbeta, rrls, background, medium, x_axis):\n",
    "    \"\"\"\n",
    "    Generates the RRL spectra given the current vector of parameters values.\n",
    "    \"\"\"\n",
    "\n",
    "    te_ = 7000*u.K # This fixes the temperature.\n",
    "    # This will only fit for the electron density and\n",
    "    # path length.\n",
    "    ne_ = 10**params[\"ne\"].value * u.cm**-3\n",
    "    ds_ = 10**params[\"ds\"].value * u.pc\n",
    "\n",
    "    layer = layers.Layer(ne_, te_, ds_, vrms,\n",
    "                         bnbeta, rrls, background, medium,\n",
    "                         x_axis=x_axis)\n",
    "    layer.compute()\n",
    "    \n",
    "    return layer.tl_x\n",
    "\n",
    "\n",
    "def log_likelihood(params, y, yerr, **kwargs):\n",
    "    \"\"\"\n",
    "    Log likelihood assuming Gaussian distribution.\n",
    "    \"\"\"\n",
    "\n",
    "    ymod = synth_spec(params, **kwargs)\n",
    "\n",
    "    return -0.5*np.sum( np.power((ymod - y)/yerr, 2.) )\n",
    "\n",
    "\n",
    "def log_prob(theta, y, yerr, params, **kwargs):\n",
    "    \"\"\"\n",
    "    Function for `emcee`.\n",
    "    \"\"\"\n",
    "\n",
    "    params = set_params(theta, params=params)\n",
    "    lp = log_prior(params)\n",
    "\n",
    "    return lp + log_likelihood(params, y, yerr, **kwargs)"
   ]
  },
  {
   "cell_type": "code",
   "execution_count": 58,
   "id": "d5d749e5-af42-42c2-8d87-93c04a1acba4",
   "metadata": {},
   "outputs": [],
   "source": [
    "# Set up parameters and their bounds.\n",
    "params = {}\n",
    "params[\"ne\"] = param(name=\"ne\", value=1, min=np.log10(bnbeta_i.ne.min().value), max=np.log10(bnbeta_i.ne.max().value))\n",
    "params[\"ds\"] = param(name=\"ds\", value=2, min=-1, max=3)"
   ]
  },
  {
   "cell_type": "code",
   "execution_count": 67,
   "id": "0d9998b7-4f5c-410a-95ea-4827f789bafd",
   "metadata": {},
   "outputs": [
    {
     "name": "stderr",
     "output_type": "stream",
     "text": [
      "100%|█████████████████████████████████████████████████████████████████████████████████████████████████████████████████████████████████████████████████████████████████████████| 100/100 [01:28<00:00,  1.13it/s]\n"
     ]
    }
   ],
   "source": [
    "# Setting up mcmc parameters.\n",
    "nwalkers, ndims, nsteps = 20, len(params), 1000\n",
    "\n",
    "# Setting up the starting positions using uniform PDFs.\n",
    "random_gen = np.random.default_rng()\n",
    "pos = np.array([random_gen.uniform(p.min, p.max, nwalkers) for p in params.values()])\n",
    "pos = pos.T\n",
    "\n",
    "# Additional arguments needed to compute the RRL spectra.\n",
    "# In this case we use the same as those of the mock spectra.\n",
    "# For real data you'd have to provide guesses for `background`\n",
    "# and `medium`, and make sure all the input data uses the same `x_axis`.\n",
    "kwargs = {\"vrms\": 1*u.km/u.s, \n",
    "          \"bnbeta\": bnbeta_i, \n",
    "          \"rrls\": rrls, \n",
    "          \"background\": background, \n",
    "          \"medium\": medium, \n",
    "          \"x_axis\": x_axis}\n",
    "\n",
    "# Here we will define the observed data.\n",
    "# First the spectra.\n",
    "# The way this is setup you'll have to combine all your data \n",
    "# into a single array of shape (#lines, #channels).\n",
    "y = layer.tl_x\n",
    "\n",
    "# Add some noise to the mock data, and use it as an estimate of the error.\n",
    "noise = np.random.normal(loc=0.0, scale=10, size=layer.tl_x.shape) * u.mK\n",
    "y += noise\n",
    "\n",
    "# Run the emcee sampler. \n",
    "# With 1000 `steps` and 20 `walkers` this takes ~15 minutes.\n",
    "sampler = emcee.EnsembleSampler(nwalkers, ndims, log_prob, args=(y, noise, params),\n",
    "                                kwargs=kwargs)\n",
    "sampler.run_mcmc(pos, nsteps, progress=True);"
   ]
  },
  {
   "cell_type": "code",
   "execution_count": 68,
   "id": "4cc4ba91-effe-45f8-b86e-d6ea5197c100",
   "metadata": {},
   "outputs": [
    {
     "data": {
      "image/png": "[encoded data removed]",
      "text/plain": [
       "<Figure size 300x300 with 4 Axes>"
      ]
     },
     "metadata": {},
     "output_type": "display_data"
    }
   ],
   "source": [
    "# Extract the results from the sampler.\n",
    "# The maximum likelihood values should match those of the gas layer we generated above.\n",
    "flat_sample_A = sampler.get_chain(discard=sampler.iteration // 2, flat=True)\n",
    "pars = ['log (' + l + ')' for l in list(params.keys())]\n",
    "cA = ChainConsumer()\n",
    "cA.add_chain(np.asarray(flat_sample_A), parameters=pars)\n",
    "cA.plotter.plot()\n",
    "# By default chainconsumer reports the 1 sigma intervals above and below the maximum likelihood value.\n",
    "plt.tight_layout()"
   ]
  },
  {
   "cell_type": "code",
   "execution_count": 66,
   "id": "d18a2a86-9a87-4225-93f5-f55ffd32f6cb",
   "metadata": {},
   "outputs": [
    {
     "data": {
      "text/plain": [
       "(3.019951720402016, 221.81964198002194)"
      ]
     },
     "execution_count": 66,
     "metadata": {},
     "output_type": "execute_result"
    }
   ],
   "source": [
    "# Effectively, the best fit parameters match those of the input gas layer!\n",
    "np.power(10, 0.48), np.power(10, 2.346)"
   ]
  },
  {
   "cell_type": "code",
   "execution_count": null,
   "id": "9379330f-d36d-4594-97b3-927fb9ad1a04",
   "metadata": {},
   "outputs": [],
   "source": []
  }
 ],
 "metadata": {
  "kernelspec": {
   "display_name": "Python 3 (ipykernel)",
   "language": "python",
   "name": "python3"
  },
  "language_info": {
   "codemirror_mode": {
    "name": "ipython",
    "version": 3
   },
   "file_extension": ".py",
   "mimetype": "text/x-python",
   "name": "python",
   "nbconvert_exporter": "python",
   "pygments_lexer": "ipython3",
   "version": "3.9.0"
  }
 },
 "nbformat": 4,
 "nbformat_minor": 5
}
